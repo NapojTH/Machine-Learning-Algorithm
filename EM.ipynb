{
 "cells": [
  {
   "cell_type": "markdown",
   "id": "1e322048",
   "metadata": {},
   "source": [
    "## Document Clustering"
   ]
  },
  {
   "cell_type": "code",
   "execution_count": 1,
   "id": "4a8bdec0",
   "metadata": {},
   "outputs": [
    {
     "name": "stderr",
     "output_type": "stream",
     "text": [
      "Loading required package: NLP\n"
     ]
    }
   ],
   "source": [
    "#Import the necessary library\n",
    "#install.packages('tm') install the tm library\n",
    "#install.packages('SnowballC') install this as a part of tm library to make some function works\n",
    "\n",
    "options(warn=-1) # set warning to be false.\n",
    "#Package for the text-processing/mining\n",
    "library(tm)"
   ]
  },
  {
   "cell_type": "markdown",
   "id": "77934789",
   "metadata": {},
   "source": [
    "All the code and implementation will be based on a derivation/ adaptation of activity 4.1-4.2 and codebase. The below is how each code will implement the EM algorithm for document clustering as the following:"
   ]
  },
  {
   "cell_type": "markdown",
   "id": "7dc97eaf",
   "metadata": {},
   "source": [
    "### Helper function for calculate the log sum and initialiser of model parameters randomly\n",
    "\n",
    "Input:    logA1, logA2 ... logAn\n",
    "\n",
    "Output:   log(A1+A2+...+An)\n",
    "\n",
    " This function is needed to prevent numerical overflow/underflow when working with small numbers, \n",
    " because we can easily get small numbers by multiplying p1 * p2 * ... * pn (where 0 <= pi <= 1 are probabilities).   \n",
    "\n",
    " Example: Suppose we are interested in p1 * p2 * p3 + q1 * q2+q3 where all numbers are probabilities \\ in [0,1]\n",
    "          To prevent numerical errors, we do the computation in the log space and convert the result back using the exp function \n",
    "          Hence our approach is to form the vector v = [log(p1)+log(p2)+log(p3) , log(q1)+log(q2)+log(q3)] \n",
    "          Then get the results by: exp(logSum(v))"
   ]
  },
  {
   "cell_type": "code",
   "execution_count": 2,
   "id": "03e0d21e",
   "metadata": {},
   "outputs": [],
   "source": [
    "#Calculation of sum of log\n",
    "logSum <- function(v) {\n",
    "   m = max(v)\n",
    "   return ( m + log(sum(exp(v-m))))\n",
    "}\n",
    "\n",
    "#Initialize model parameters randomly \n",
    "initial.param <- function(vocab_size, K=4, seed=123456){\n",
    "  rho <- matrix(1/K,nrow = K, ncol=1)  # assume all clusters have the same size (we will update this later on)\n",
    "  mu <- matrix(runif(K*vocab_size),nrow = K, ncol = vocab_size)    # initiate Mu \n",
    "  mu <- prop.table(mu, margin = 1)  # normalization to ensure that sum of each row is 1\n",
    "  return (list(\"rho\" = rho, \"mu\"= mu))\n",
    "}"
   ]
  },
  {
   "cell_type": "markdown",
   "id": "7426d2c9",
   "metadata": {},
   "source": [
    "II. Implement the hard-EM (you derived above) and soft-EM (derived in Chapter 5 of Module 4). Please provide enough comments in your submitted code.\n",
    "\n",
    "Hint: If it helps, feel free to base your code on the provided code for EM algorithm for GMM in Activity 4.1 or the codebase provided in the Moodle).\n",
    "\n",
    "The following code below is an implementation of soft/hard-EM algorithm derieved from codebase provided by Moodle: "
   ]
  },
  {
   "cell_type": "markdown",
   "id": "20d1366f",
   "metadata": {},
   "source": [
    "### E & M step for Soft/Hard EM Algorithm \n",
    "\n",
    "#### E-Step (Zhuang, 2022a; Zhuang, 2022b)\n",
    "\n",
    "For soft E-step, we will identify the posterior baesd on the parameter weight which is the mean and the rho (prior probability , which can be changed based on the boundary of the mixture model due to a multiple distribution. Once we identify the value, it will be considered as and optimal expect(lower-bound) function. \n",
    "\n",
    "For hard E-step, we will identify the posterior based on the same parameter as the soft em. However, it will return the value as the highest probability (highest likelihood) which return to a certain distribution for document clustering."
   ]
  },
  {
   "cell_type": "code",
   "execution_count": 3,
   "id": "72387f69",
   "metadata": {},
   "outputs": [],
   "source": [
    "# E-step for hard & Soft Expectation-Maximization algorithm function\n",
    "\n",
    "#E-step soft em function\n",
    "e_step_soft <- function(gamma,model,counts){\n",
    "    #Parameter setting for soft e-step\n",
    "    N <- dim(counts)[2] #number of documents\n",
    "    K <- dim(model$mu)[1] #Cluster number\n",
    "    \n",
    "    #E-step\n",
    "    for (n in 1:N){\n",
    "        for (k in 1:K){\n",
    "            ## calculate the posterior based on the estimated mean and rho (prior probability) in the \"log space\"\n",
    "            gamma[n,k] <- log(model$rho[k,1]) +  sum(counts[,n] * log(model$mu[k,])) \n",
    "    }\n",
    "        #Normalise, making sum(post) to 1 in logspace (post of the cluster is between [0,1])\n",
    "        log_norm <- logSum(gamma[n,])\n",
    "        gamma[n,] = gamma[n,] - log_norm\n",
    "    }\n",
    "    # converting back from the log space (Optimal expect(lower-bound function) value) \n",
    "    gamma <- exp(gamma)\n",
    "    return (gamma)\n",
    "}\n",
    "\n",
    "\n",
    "# E-step hard em function\n",
    "e_step_hard <- function(gamma,model,counts){\n",
    "    # Model Parameter Setting\n",
    "  N <- dim(counts)[2] # number of documents\n",
    "  K <- dim(model$mu)[1] # number of clusters\n",
    "  \n",
    "  # E step:    \n",
    "  for (n in 1:N){\n",
    "    for (k in 1:K){\n",
    "        \n",
    "      ## calculate the posterior based on the estimated mu and rho in the \"log space\"\n",
    "      gamma[n,k] <- log(model$rho[k,1]) +  sum(counts[,n] * log(model$mu[k,])) \n",
    "    \n",
    "    }\n",
    "    max.prob <- gamma==apply(gamma, 1, max) # for each document find the cluster with the maximum (estimated) probability\n",
    "    gamma[max.prob] <- 1 # assign each document to the cluster with the highest probability\n",
    "    gamma[!max.prob] <- 0 # remove document from clusters with lower probabilites\n",
    "  }\n",
    "  \n",
    "  #Return best lower bound (expected value function)\n",
    "  return (gamma)\n",
    "}\n"
   ]
  },
  {
   "cell_type": "markdown",
   "id": "20ffe420",
   "metadata": {},
   "source": [
    "####  M step \n",
    "\n",
    "For the M-step, we will maximise the function we got from both hard/soft e-step with the same process which is adding a small number to all element to prevent '0' s vector and recalculate all the estimation for finding a relative cluster size"
   ]
  },
  {
   "cell_type": "code",
   "execution_count": 4,
   "id": "cb0d69b2",
   "metadata": {},
   "outputs": [],
   "source": [
    "#M-step for both soft/hard EM\n",
    "M_step <- function(gamma, model, counts){\n",
    "  # Model Parameter Setting\n",
    "  N <- dim(counts)[2]   # number of documents\n",
    "  W <- dim(counts)[1]   # number of words i.e. vocabulary size\n",
    "  K <- dim(model$mu)[1] # number of clusters\n",
    "    \n",
    "  #add a small number (eps) to all elements of the vector to prevent [0,0,0]\n",
    "  eps = matrix(1e-10, nrow = W, ncol = N)\n",
    "  counts = counts + eps\n",
    "  \n",
    "  for (k in 1:K){\n",
    "    ## recalculate the estimations:\n",
    "    model$rho[k,] <-  sum(gamma[,k])/(N+N*1e-10)  # the relative cluster size\n",
    "    for (w in 1:W){\n",
    "      model$mu[k,w] <- sum(gamma[,k]*counts[w,]) / sum(gamma[,k]*colSums(counts))  #new word proportion parameters for each cluster\n",
    "    }\n",
    "  }\n",
    "  # Return the result\n",
    "  return (model)\n",
    "}"
   ]
  },
  {
   "cell_type": "markdown",
   "id": "92d258e3",
   "metadata": {},
   "source": [
    "## EM algorithm\n",
    "\n",
    "After we differentiate between the hard and soft E&M step for em algorithm by using the objective function of the document clustering which is a a function for identifying negative log-likelihood to find optimal function for document clustering as the following:\n",
    "\n",
    "### objective function for document clustering"
   ]
  },
  {
   "cell_type": "code",
   "execution_count": 5,
   "id": "71292047",
   "metadata": {},
   "outputs": [],
   "source": [
    "train_obj <- function(model, counts) { \n",
    "  N <- dim(counts)[2] # number of documents\n",
    "  K <- dim(model$mu)[1] #mean of the model\n",
    "  \n",
    "  #Negative likelihood calculation\n",
    "  nloglike = 0\n",
    "  for (n in 1:N){\n",
    "    lprob <- matrix(0,ncol = 1, nrow=K)\n",
    "    for (k in 1:K){\n",
    "      lprob[k,1] = sum(counts[,n] * log(model$mu[k,])) #Identify of the likelihood\n",
    "    }\n",
    "    nloglike <- nloglike - logSum(lprob + log(model$rho))\n",
    "  }\n",
    "  \n",
    "  return (nloglike)\n",
    "}"
   ]
  },
  {
   "cell_type": "markdown",
   "id": "e2b35dbe",
   "metadata": {},
   "source": [
    "### Em Algorithm"
   ]
  },
  {
   "cell_type": "code",
   "execution_count": 6,
   "id": "816a7546",
   "metadata": {},
   "outputs": [],
   "source": [
    "#Em algorithm\n",
    "EM <- function(counts, K=4, max.epoch=10, seed=123456,e_step,m_step){\n",
    "  #INPUTS:\n",
    "  ## counts: word count matrix\n",
    "  ## K: the number of clusters\n",
    "  #OUTPUTS:\n",
    "  ## model: a list of model parameters\n",
    "  \n",
    "  # Model Parameter Setting\n",
    "  N <- dim(counts)[2] # number of documents\n",
    "  W <- dim(counts)[1] # number of unique words (in all documents)\n",
    "  \n",
    "  # Initialization\n",
    "  model <- initial.param(W, K=K, seed=seed)\n",
    "  gamma <- matrix(0, nrow = N, ncol = K)\n",
    "\n",
    "  print(train_obj(model,counts))\n",
    "  # Build the model\n",
    "  for(epoch in 1:max.epoch){\n",
    "    \n",
    "    # E Step\n",
    "    gamma <- e_step(gamma, model, counts)\n",
    "    # M Step\n",
    "    model <- m_step(gamma, model, counts)\n",
    "   \n",
    "    print(train_obj(model,counts)) \n",
    "  }\n",
    "  # Return Model\n",
    "  return(list(\"model\"=model,\"gamma\"=gamma))\n",
    "}\n"
   ]
  },
  {
   "cell_type": "markdown",
   "id": "24c55358",
   "metadata": {},
   "source": [
    "III. Load Task2A.txt file and necessary libraries (if needed, perform text preprocessing similar to what we did in Activity 4.2), set the number of clusters K=4, and run both the soft-EM and hard-EM algorithms on the provided data."
   ]
  },
  {
   "cell_type": "code",
   "execution_count": 7,
   "id": "5619a630",
   "metadata": {},
   "outputs": [],
   "source": [
    "#read the text file (each line of the text file is one document)\n",
    "text <- readLines('Task2A.txt')\n",
    "\n",
    "#randomly select some sample from the text file\n",
    "set.seed(2560)\n",
    "text <- text[sample(length(text),1000)] #suppose randomly select 1000 sample\n",
    "\n",
    "## the terms before the first '\\t' are the lables (the newsgroup names) and all the remaining text after \n",
    "#'\\t' are the actual documents\n",
    "docs <- strsplit(text, '\\t')\n",
    "\n",
    "# store the labels for evaluation\n",
    "labels <-  unlist(lapply(docs, function(x) x[1]))\n",
    "# store the unlabeled texts    \n",
    "docs <- data.frame(doc_id=paste0(\"text\",formatC(1:length(labels), width = 4, format = \"d\", flag = \"0\")),\n",
    "                   text=unlist(lapply(docs, function(x) x[2])))\n",
    "                                 \n",
    "# create a corpus\n",
    "docs <- DataframeSource(docs) #must have two column so it works\n",
    "corp <- Corpus(docs)\n",
    "  \n",
    "# Preprocessing:\n",
    "corp <- tm_map(corp, removeWords, stopwords(\"english\")) # remove stop words (the most common word in a language that can be find in any document)\n",
    "corp <- tm_map(corp, removePunctuation) # remove pnctuation\n",
    "corp <- tm_map(corp, stemDocument) # perform stemming (reducing inflected and derived words to their root form)\n",
    "corp <- tm_map(corp, removeNumbers) # remove all numbers\n",
    "corp <- tm_map(corp, stripWhitespace) # remove redundant spaces \n",
    "    \n",
    "# Create a matrix which its rows are the documents and colomns are the words. \n",
    "dtm <- DocumentTermMatrix(corp)\n",
    "## reduce the sparcity of out dtm\n",
    "dtm <- removeSparseTerms(dtm, 0.90)\n",
    "## convert dtm to a matrix\n",
    "word.doc.mat <- t(as.matrix(dtm))\n",
    "  \n",
    "# Get the count of the word\n",
    "doc_data<-list(\"docs\" = docs, \"word.doc.mat\"= word.doc.mat, \"labels\" = labels) #list f each word by each document in text file\n",
    "count_doc <- doc_data$word.doc.mat #get the matrix of document (word count)"
   ]
  },
  {
   "cell_type": "code",
   "execution_count": 8,
   "id": "1c8ebfbf",
   "metadata": {},
   "outputs": [
    {
     "name": "stdout",
     "output_type": "stream",
     "text": [
      "[1] 176900.3\n",
      "[1] 164582.2\n",
      "[1] 162925.7\n",
      "[1] 162051.2\n",
      "[1] 161859.1\n",
      "[1] 161783.9\n"
     ]
    }
   ],
   "source": [
    "#Soft EM algorithm\n",
    "Soft_EM <- EM(count_doc,K=4,max.epoch=5,seed=2560,e_step_soft,M_step)\n",
    "## find the cluster with the maximum weight(since we have soft assignment here)\n",
    "label_soft_em <- apply(Soft_EM$gamma, 1, which.max)"
   ]
  },
  {
   "cell_type": "code",
   "execution_count": 9,
   "id": "87042474",
   "metadata": {},
   "outputs": [
    {
     "name": "stdout",
     "output_type": "stream",
     "text": [
      "[1] 178180.1\n",
      "[1] 164240.7\n",
      "[1] 162774.5\n",
      "[1] 162041.4\n",
      "[1] 161782.7\n",
      "[1] 161661.4\n"
     ]
    }
   ],
   "source": [
    "#Hard EM algorithm\n",
    "Hard_EM <- EM(count_doc,K=4,max.epoch=5,seed=2560,e_step_hard,M_step)\n",
    "## find the cluster with the maximum probability\n",
    "label_hard_em <- apply(Hard_EM$gamma, 1, which.max)"
   ]
  },
  {
   "cell_type": "markdown",
   "id": "3c56672a",
   "metadata": {},
   "source": [
    "IV. Perform a PCA on the clusterings that you get based on the hard-EM and soft-EM in the same way we did in Activity 4.2. Then, visualize the obtained clusters with different colors where x and y axes are the first two principal components (similar to Activity 4.2). Attach the plots to your PDF report and report how and why the hard and soft-EM are different, based on your plots in the report."
   ]
  },
  {
   "cell_type": "markdown",
   "id": "9518f918",
   "metadata": {},
   "source": [
    "### PCA cluster visualisation function"
   ]
  },
  {
   "cell_type": "code",
   "execution_count": 10,
   "id": "40a56351",
   "metadata": {},
   "outputs": [
    {
     "name": "stdout",
     "output_type": "stream",
     "text": [
      "integer(0)\n"
     ]
    }
   ],
   "source": [
    "##--- Cluster Visualization function-------------------------------------------------\n",
    "cluster.viz <- function(doc.word.mat, color.vector, title=' '){\n",
    "  p.comp <- prcomp(doc.word.mat, scale. = TRUE, center = TRUE)\n",
    "  plot(p.comp$x, col=color.vector, pch=1,  main=title)\n",
    "}\n",
    "\n",
    "# normalize the count matrix for better visualization\n",
    "counts <- scale(count_doc)\n",
    "\n",
    "#Detect missing value in each row after rescale \n",
    "print(which(is.na(count_doc)))"
   ]
  },
  {
   "cell_type": "code",
   "execution_count": 11,
   "id": "042bc7fd",
   "metadata": {},
   "outputs": [
    {
     "data": {
      "text/html": [],
      "text/latex": [],
      "text/markdown": [],
      "text/plain": [
       "integer(0)"
      ]
     },
     "metadata": {},
     "output_type": "display_data"
    }
   ],
   "source": [
    "#Change the na to zero if there is any\n",
    "counts[is.na(counts)] = 0\n",
    "\n",
    "#Detect missing value in each row after rescale \n",
    "which(is.na(counts))"
   ]
  },
  {
   "cell_type": "code",
   "execution_count": 12,
   "id": "97ca7eb2",
   "metadata": {},
   "outputs": [
    {
     "data": {
      "image/png": "[encoded data removed]",
      "text/plain": [
       "Plot with title \"Soft-EM for document clustering\""
      ]
     },
     "metadata": {},
     "output_type": "display_data"
    },
    {
     "data": {
      "image/png": "[encoded data removed]",
      "text/plain": [
       "Plot with title \"Hard-EM for document clustering\""
      ]
     },
     "metadata": {},
     "output_type": "display_data"
    }
   ],
   "source": [
    "## visualize the Hard and Soft EM\n",
    "cluster.viz(t(counts), label_soft_em, 'Soft-EM for document clustering')\n",
    "cluster.viz(t(counts), label_hard_em, 'Hard-EM for document clustering')"
   ]
  },
  {
   "cell_type": "markdown",
   "id": "2ddb7733",
   "metadata": {},
   "source": [
    "## Reference"
   ]
  },
  {
   "cell_type": "markdown",
   "id": "1e58df99",
   "metadata": {},
   "source": [
    "All the code and implementation is derieved from the following sources:\n",
    "\n",
    "\n",
    "- Haffari, G. & Kazimipour, B. (2016, July). $\\textit{codeBase2A.R}$. https://lms.monash.edu/pluginfile.php/14028238/mod_assign/intro/Dataset%20and%20Sample%20code_2022.zip\n",
    "\n",
    "- Jupyter Notebooks:FIT5201 Machine Learning, (nd.). $\\textit{Activity 4.1. EM for GMM}$. \n",
    "https://lms.monash.edu/mod/folder/view.php?id=10172219\n",
    "\n",
    "- Jupyter Notebooks:FIT5201 Machine Learning, (nd.). $\\textit{Activity 4.2. Document Clustering}$. \n",
    "https://lms.monash.edu/mod/folder/view.php?id=10172219\n",
    "\n",
    "- Zhuang, B. (2022a). $\\textit{Week 7.: Module 4 - A | Latent Variable Models}$ \\[PowerPoint slides]. https://lms.monash.edu/mod/resource/view.php?id=9895015\n",
    "\n",
    "- Zhuang, B. (2022b). $\\textit{Week 8.: Module 4 - B | Latent Variable Models}$ \\[PowerPoint slides]. https://lms.monash.edu/mod/resource/view.php?id=9895032\n"
   ]
  },
  {
   "cell_type": "code",
   "execution_count": null,
   "id": "f5988b19",
   "metadata": {},
   "outputs": [],
   "source": []
  }
 ],
 "metadata": {
  "kernelspec": {
   "display_name": "R",
   "language": "R",
   "name": "ir"
  },
  "language_info": {
   "codemirror_mode": "r",
   "file_extension": ".r",
   "mimetype": "text/x-r-source",
   "name": "R",
   "pygments_lexer": "r",
   "version": "3.6.1"
  }
 },
 "nbformat": 4,
 "nbformat_minor": 5
}
