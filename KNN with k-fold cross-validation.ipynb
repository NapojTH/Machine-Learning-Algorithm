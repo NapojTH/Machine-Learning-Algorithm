{
 "cells": [
  {
   "cell_type": "markdown",
   "id": "d93d7ed1",
   "metadata": {},
   "source": [
    "### Implementation of K-Fold Cross Validation on KNN regressor"
   ]
  },
  {
   "cell_type": "markdown",
   "id": "3dc73df7",
   "metadata": {},
   "source": [
    "In this question, it will be focused on the using k-fold cross-validation, which is an approach using for model selection on KNN regressor. The process will be proceed as the following (the initial step will be the similar as the previous question): "
   ]
  },
  {
   "cell_type": "code",
   "execution_count": 1,
   "id": "e970cdc9",
   "metadata": {},
   "outputs": [
    {
     "name": "stderr",
     "output_type": "stream",
     "text": [
      "Registered S3 methods overwritten by 'ggplot2':\n",
      "  method         from \n",
      "  [.quosures     rlang\n",
      "  c.quosures     rlang\n",
      "  print.quosures rlang\n"
     ]
    }
   ],
   "source": [
    "#Import the library\n",
    "library(reshape2) #For reshape the file\n",
    "library(ggplot2) #For data visualisation"
   ]
  },
  {
   "cell_type": "code",
   "execution_count": 2,
   "id": "a547b9cc",
   "metadata": {},
   "outputs": [],
   "source": [
    "#Import the training and testing csv file\n",
    "train <- read.csv('Task1A_train.csv')\n",
    "test <- read.csv('Task1A_test.csv')"
   ]
  },
  {
   "cell_type": "code",
   "execution_count": 3,
   "id": "a33adc34",
   "metadata": {},
   "outputs": [],
   "source": [
    "#Prepare the dataset by separate the actual result and the predictor\n",
    "train_data = as.matrix(train[,-2]) \n",
    "train_label = as.matrix(train[,2])\n",
    "test_data = as.matrix(test[,-2])\n",
    "test_label = as.matrix(test[,2])"
   ]
  },
  {
   "cell_type": "markdown",
   "id": "68d0898e",
   "metadata": {},
   "source": [
    "1.Implement\t a\t L-Fold\t Cross\t Validation\t (CV)\t function\t for\t your\t KNN\n",
    "regressor:\n",
    "cv(train.data,\ttrain.label,\tnumFold=10)\n",
    "which\ttakes\tthe\ttraining\tdata\tand\ttheir\tlabels\t(continuous\tvalues),\tthe\n",
    "number\tof folds,\tand\treturns\terrors\tfor\tdifferent\tfolds\tof\tthe\ttraining\tdata.\n",
    "\n",
    "To implement the cross-validation technique, the knn classifier need to be created with same approach as the question one (create a knn regression which return the mean of point and k-value, and create a mse function) as the following:"
   ]
  },
  {
   "cell_type": "code",
   "execution_count": 4,
   "id": "e6f3b57b",
   "metadata": {},
   "outputs": [],
   "source": [
    "#Derieved the KNN function from the tutorial activity 1\n",
    "# KNN function (distance should be one of euclidean, maximum, manhattan, canberra, binary or minkowski)\n",
    "knnCV <- function(train.data, train.label, test.data, K=3, distance = 'euclidean'){\n",
    "    ## count number of train and test samples\n",
    "    train.len <- nrow(train.data)\n",
    "    test.len <- nrow(test.data)\n",
    "    \n",
    "    ## calculate distances between samples\n",
    "    dist <- as.matrix(dist(rbind(test.data, train.data), method= distance))[1:test.len, (test.len+1):(test.len+train.len)]\n",
    "    \n",
    "    test.label <- as.matrix(nrow(test.data))\n",
    "    ## for each test sample...\n",
    "    for (i in 1:test.len){\n",
    "        ### ...find its K nearest neighbours from training sample...\n",
    "        nn <- as.data.frame(sort(dist[i,], index.return = TRUE))[1:K,2]\n",
    "        \n",
    "        ###... and calculate mean\n",
    "        test.label[i] <- mean(train.label[nn])\n",
    "    }\n",
    "    \n",
    "    ## return the class labels as output\n",
    "    return (test.label)\n",
    "}"
   ]
  },
  {
   "cell_type": "code",
   "execution_count": 5,
   "id": "00926fcb",
   "metadata": {},
   "outputs": [],
   "source": [
    "#Mean square error of the regression mean(y_real-y_pred)**2\n",
    "mse <- function(a,b){\n",
    "    mse = sum((a - b)^2/ nrow(b))\n",
    "    return(mse)\n",
    "}"
   ]
  },
  {
   "cell_type": "markdown",
   "id": "cc7904e8",
   "metadata": {},
   "source": [
    "Once all the necessary function is created, the cross-validation function will be created based on the following approach:\n",
    "\n",
    "1. Dividing the dataset into k-equal size distinct subset\n",
    "2. These subset will be divided into training set and validation set, which most of the set will be training set and 1 validation set (example 9 training set (k-1 set) and 1 validation set (1/k set))\n",
    "3. The second process will be repeated based on number of k-fold to ensure that all the data points are used for both training set and validation set\n",
    "4. The average of the validation error of each fold will be used for estimating testing error (Chen,2022)\n",
    "\n",
    "This is how it is implemented:"
   ]
  },
  {
   "cell_type": "code",
   "execution_count": 6,
   "id": "d9f87e21",
   "metadata": {},
   "outputs": [],
   "source": [
    "# K-Fold Cross Validation Function\n",
    "cv <- function(train.data,train.label,KF=3,numFold=10){\n",
    "    #Create dataframe for storing k-fold and test accuracy\n",
    "    cross.test <- data.frame('K'=rep(0,numFold),'test'=rep(0,numFold))\n",
    "    #Iteration for creating K-1 training and a testing set\n",
    "    for (k in 1:numFold){\n",
    "        #index for the training set and validation set in k-fold cross validation(for dividing \n",
    "        #a dataset into training and validation set)\n",
    "        index <- (((k-1)*nrow(train.data)/numFold)+1):((k*nrow(train.data))/numFold) #k-1 training set and 1/k validation set\n",
    "        #Create a training set and validation per fold validation\n",
    "        train.set <- as.matrix(train.data[-index,])\n",
    "        train.lab <- as.matrix(train.label[-index,])\n",
    "        test.set <- as.matrix(train.data[index,])\n",
    "        test.lab <- as.matrix(train.label[index,])\n",
    "        #Save value to the cross.test dataframe\n",
    "        cross.test[k,'K'] <- k\n",
    "        ### Apply KNN regressor and Store the error from the KNN regressor function to cross.test\n",
    "        cross.test[k,'test'] <- mse(knnCV(train.set, train.lab, test.set, KF),test.lab)\n",
    "    }\n",
    "    #Return dataframe\n",
    "    return(cross.test)\n",
    "}"
   ]
  },
  {
   "cell_type": "code",
   "execution_count": 7,
   "id": "d92b4f29",
   "metadata": {},
   "outputs": [
    {
     "data": {
      "text/html": [
       "<table>\n",
       "<thead><tr><th scope=col>K</th><th scope=col>test</th></tr></thead>\n",
       "<tbody>\n",
       "\t<tr><td> 1        </td><td>0.01710278</td></tr>\n",
       "\t<tr><td> 2        </td><td>0.01652778</td></tr>\n",
       "\t<tr><td> 3        </td><td>0.02490556</td></tr>\n",
       "\t<tr><td> 4        </td><td>0.08063889</td></tr>\n",
       "\t<tr><td> 5        </td><td>0.23397500</td></tr>\n",
       "\t<tr><td> 6        </td><td>0.52177500</td></tr>\n",
       "\t<tr><td> 7        </td><td>0.55035000</td></tr>\n",
       "\t<tr><td> 8        </td><td>0.66915000</td></tr>\n",
       "\t<tr><td> 9        </td><td>1.76782500</td></tr>\n",
       "\t<tr><td>10        </td><td>6.30945000</td></tr>\n",
       "</tbody>\n",
       "</table>\n"
      ],
      "text/latex": [
       "\\begin{tabular}{r|ll}\n",
       " K & test\\\\\n",
       "\\hline\n",
       "\t  1         & 0.01710278\\\\\n",
       "\t  2         & 0.01652778\\\\\n",
       "\t  3         & 0.02490556\\\\\n",
       "\t  4         & 0.08063889\\\\\n",
       "\t  5         & 0.23397500\\\\\n",
       "\t  6         & 0.52177500\\\\\n",
       "\t  7         & 0.55035000\\\\\n",
       "\t  8         & 0.66915000\\\\\n",
       "\t  9         & 1.76782500\\\\\n",
       "\t 10         & 6.30945000\\\\\n",
       "\\end{tabular}\n"
      ],
      "text/markdown": [
       "\n",
       "| K | test |\n",
       "|---|---|\n",
       "|  1         | 0.01710278 |\n",
       "|  2         | 0.01652778 |\n",
       "|  3         | 0.02490556 |\n",
       "|  4         | 0.08063889 |\n",
       "|  5         | 0.23397500 |\n",
       "|  6         | 0.52177500 |\n",
       "|  7         | 0.55035000 |\n",
       "|  8         | 0.66915000 |\n",
       "|  9         | 1.76782500 |\n",
       "| 10         | 6.30945000 |\n",
       "\n"
      ],
      "text/plain": [
       "   K  test      \n",
       "1   1 0.01710278\n",
       "2   2 0.01652778\n",
       "3   3 0.02490556\n",
       "4   4 0.08063889\n",
       "5   5 0.23397500\n",
       "6   6 0.52177500\n",
       "7   7 0.55035000\n",
       "8   8 0.66915000\n",
       "9   9 1.76782500\n",
       "10 10 6.30945000"
      ]
     },
     "metadata": {},
     "output_type": "display_data"
    }
   ],
   "source": [
    "#Cross-validation 10 error from 10 fold\n",
    "cv(train_data,train_label)"
   ]
  },
  {
   "cell_type": "markdown",
   "id": "a22cfa08",
   "metadata": {},
   "source": [
    "2. Using\t the\t training\t data in\t Question\t 1,\t run\t your\t L-Fold\t CV\t where\tthe numFold\tis\tset\tto\t10.\tChange the\tvalue\tof\tK=1,..,20 in\tyour\tKNN\tregressor, and\tfor\teach\tK\tcompute\tthe\taverage\t10\terror\tnumbers\tyou\thave got.Plot the average error\tnumbers\tversus\t1/K for\tK=1,..,20 in\tyour\tKNN\tregressor.\n",
    "Save the plot in your Jupyter Notebook file\tfor\tQuestion 2."
   ]
  },
  {
   "cell_type": "code",
   "execution_count": 8,
   "id": "2541c9fb",
   "metadata": {},
   "outputs": [
    {
     "data": {
      "text/html": [
       "<table>\n",
       "<thead><tr><th scope=col>K</th><th scope=col>Testing</th></tr></thead>\n",
       "<tbody>\n",
       "\t<tr><td> 1      </td><td>0.586520</td></tr>\n",
       "\t<tr><td> 2      </td><td>0.809465</td></tr>\n",
       "\t<tr><td> 3      </td><td>1.019170</td></tr>\n",
       "\t<tr><td> 4      </td><td>1.232728</td></tr>\n",
       "\t<tr><td> 5      </td><td>1.511290</td></tr>\n",
       "\t<tr><td> 6      </td><td>1.822983</td></tr>\n",
       "\t<tr><td> 7      </td><td>2.216570</td></tr>\n",
       "\t<tr><td> 8      </td><td>2.473662</td></tr>\n",
       "\t<tr><td> 9      </td><td>2.895491</td></tr>\n",
       "\t<tr><td>10      </td><td>3.166623</td></tr>\n",
       "\t<tr><td>11      </td><td>3.524957</td></tr>\n",
       "\t<tr><td>12      </td><td>3.769219</td></tr>\n",
       "\t<tr><td>13      </td><td>4.243626</td></tr>\n",
       "\t<tr><td>14      </td><td>4.513951</td></tr>\n",
       "\t<tr><td>15      </td><td>5.000394</td></tr>\n",
       "\t<tr><td>16      </td><td>5.347379</td></tr>\n",
       "\t<tr><td>17      </td><td>5.838723</td></tr>\n",
       "\t<tr><td>18      </td><td>6.250302</td></tr>\n",
       "\t<tr><td>19      </td><td>6.825093</td></tr>\n",
       "\t<tr><td>20      </td><td>7.283268</td></tr>\n",
       "</tbody>\n",
       "</table>\n"
      ],
      "text/latex": [
       "\\begin{tabular}{r|ll}\n",
       " K & Testing\\\\\n",
       "\\hline\n",
       "\t  1       & 0.586520\\\\\n",
       "\t  2       & 0.809465\\\\\n",
       "\t  3       & 1.019170\\\\\n",
       "\t  4       & 1.232728\\\\\n",
       "\t  5       & 1.511290\\\\\n",
       "\t  6       & 1.822983\\\\\n",
       "\t  7       & 2.216570\\\\\n",
       "\t  8       & 2.473662\\\\\n",
       "\t  9       & 2.895491\\\\\n",
       "\t 10       & 3.166623\\\\\n",
       "\t 11       & 3.524957\\\\\n",
       "\t 12       & 3.769219\\\\\n",
       "\t 13       & 4.243626\\\\\n",
       "\t 14       & 4.513951\\\\\n",
       "\t 15       & 5.000394\\\\\n",
       "\t 16       & 5.347379\\\\\n",
       "\t 17       & 5.838723\\\\\n",
       "\t 18       & 6.250302\\\\\n",
       "\t 19       & 6.825093\\\\\n",
       "\t 20       & 7.283268\\\\\n",
       "\\end{tabular}\n"
      ],
      "text/markdown": [
       "\n",
       "| K | Testing |\n",
       "|---|---|\n",
       "|  1       | 0.586520 |\n",
       "|  2       | 0.809465 |\n",
       "|  3       | 1.019170 |\n",
       "|  4       | 1.232728 |\n",
       "|  5       | 1.511290 |\n",
       "|  6       | 1.822983 |\n",
       "|  7       | 2.216570 |\n",
       "|  8       | 2.473662 |\n",
       "|  9       | 2.895491 |\n",
       "| 10       | 3.166623 |\n",
       "| 11       | 3.524957 |\n",
       "| 12       | 3.769219 |\n",
       "| 13       | 4.243626 |\n",
       "| 14       | 4.513951 |\n",
       "| 15       | 5.000394 |\n",
       "| 16       | 5.347379 |\n",
       "| 17       | 5.838723 |\n",
       "| 18       | 6.250302 |\n",
       "| 19       | 6.825093 |\n",
       "| 20       | 7.283268 |\n",
       "\n"
      ],
      "text/plain": [
       "   K  Testing \n",
       "1   1 0.586520\n",
       "2   2 0.809465\n",
       "3   3 1.019170\n",
       "4   4 1.232728\n",
       "5   5 1.511290\n",
       "6   6 1.822983\n",
       "7   7 2.216570\n",
       "8   8 2.473662\n",
       "9   9 2.895491\n",
       "10 10 3.166623\n",
       "11 11 3.524957\n",
       "12 12 3.769219\n",
       "13 13 4.243626\n",
       "14 14 4.513951\n",
       "15 15 5.000394\n",
       "16 16 5.347379\n",
       "17 17 5.838723\n",
       "18 18 6.250302\n",
       "19 19 6.825093\n",
       "20 20 7.283268"
      ]
     },
     "metadata": {},
     "output_type": "display_data"
    }
   ],
   "source": [
    "#Calculate average of each k-fold when he k is change 1 to 20\n",
    "knn_CV <- data.frame('K'=1:20, 'Testing'=rep(0,20))\n",
    "for (k in 1:20){\n",
    "    score=cv(train_data, train_label,KF=k)\n",
    "    knn_CV[k,'Testing']=mean(score[,2])\n",
    "}\n",
    "\n",
    "#Calculate the average error for each k\n",
    "knn_CV"
   ]
  },
  {
   "cell_type": "markdown",
   "id": "97b60ac7",
   "metadata": {},
   "source": [
    "### The plot of k-fold cross-validation knn error of 10 numbers"
   ]
  },
  {
   "cell_type": "code",
   "execution_count": 9,
   "id": "d7b0aaaa",
   "metadata": {},
   "outputs": [
    {
     "data": {
      "image/png": "[encoded data removed]",
      "text/plain": [
       "plot without title"
      ]
     },
     "metadata": {},
     "output_type": "display_data"
    }
   ],
   "source": [
    "options(repr.plot.width=12, repr.plot.height=5) # area of display\n",
    "\n",
    "ggplot(data=knn_CV, aes(x=1/K, y=Testing)) + geom_line() +\n",
    "       scale_color_discrete(guide = guide_legend(title = NULL)) + theme_minimal() +\n",
    "       ggtitle(\"Missclassification Error\")"
   ]
  },
  {
   "cell_type": "markdown",
   "id": "61b4a002",
   "metadata": {},
   "source": [
    "Report\t(in\tyour\tJupyter\tNotebook\tfile)\tthe\toptimum\tvalue\tfor\tK\tbased\ton\n",
    "your\tplot\tfor\tthis\t10-fold\tcross\tvalidation\tin\tthe\tprevious\tpart\t(Part\tII)."
   ]
  },
  {
   "cell_type": "code",
   "execution_count": 10,
   "id": "a71dd7e8",
   "metadata": {},
   "outputs": [
    {
     "data": {
      "text/html": [
       "1"
      ],
      "text/latex": [
       "1"
      ],
      "text/markdown": [
       "1"
      ],
      "text/plain": [
       "[1] 1"
      ]
     },
     "metadata": {},
     "output_type": "display_data"
    }
   ],
   "source": [
    "#Find the optimal K value for \n",
    "Min_error<-min(knn_CV$Testing)\n",
    "Optimal_K <- knn_CV[knn_CV$Testing == Min_error,\"K\"]\n",
    "Optimal_K"
   ]
  },
  {
   "cell_type": "markdown",
   "id": "63371caa",
   "metadata": {},
   "source": [
    "Based on the optimal value and the plot, the optimal value of K for the k-fold cross validation of knn regressor is 1."
   ]
  },
  {
   "cell_type": "markdown",
   "id": "ab318135",
   "metadata": {},
   "source": [
    "## Reference"
   ]
  },
  {
   "cell_type": "markdown",
   "id": "55fd5e28",
   "metadata": {},
   "source": [
    "All of the code and the algorithm idea is derieved from:\n",
    "\n",
    "- Chen, B. (2022). $\\textit{Week 1.:Elements of Machine Learning}$ \\[PowerPoint slides]. https://lms.monash.edu/mod/resource/view.php?id=9894948 \n",
    "- Jupyter Notebooks:FIT5201 Machine Learning, (nd.). $\\textit{Activity 1.1 K-nearest neighbour classifier}$. https://lms.monash.edu/mod/resource/view.php?id=10048617"
   ]
  },
  {
   "cell_type": "code",
   "execution_count": null,
   "id": "b48ce1c6",
   "metadata": {},
   "outputs": [],
   "source": []
  }
 ],
 "metadata": {
  "kernelspec": {
   "display_name": "R",
   "language": "R",
   "name": "ir"
  },
  "language_info": {
   "codemirror_mode": "r",
   "file_extension": ".r",
   "mimetype": "text/x-r-source",
   "name": "R",
   "pygments_lexer": "r",
   "version": "3.6.1"
  }
 },
 "nbformat": 4,
 "nbformat_minor": 5
}
