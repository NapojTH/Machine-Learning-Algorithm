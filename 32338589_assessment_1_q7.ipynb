{
 "cells": [
  {
   "cell_type": "markdown",
   "id": "e1cac091",
   "metadata": {},
   "source": [
    "## Logistic\tRegression\tvs.\tBayesian Classifier"
   ]
  },
  {
   "cell_type": "markdown",
   "id": "1c0e7776",
   "metadata": {},
   "source": [
    "Load Task1E_train.csv and Task1E_test.csv as well as the Bayesian classifier(BC) and logistic regression (LR) codes\tfrom\tActivities\t2 and 3 in Module\t3."
   ]
  },
  {
   "cell_type": "code",
   "execution_count": 1,
   "id": "b458a7c8",
   "metadata": {},
   "outputs": [
    {
     "name": "stderr",
     "output_type": "stream",
     "text": [
      "Warning message:\n",
      "\"package 'mvtnorm' was built under R version 3.6.3\"Registered S3 methods overwritten by 'ggplot2':\n",
      "  method         from \n",
      "  [.quosures     rlang\n",
      "  c.quosures     rlang\n",
      "  print.quosures rlang\n"
     ]
    }
   ],
   "source": [
    "library(mvtnorm) # generates multivariate Gaussian sampels and calculate the densities\n",
    "library(ggplot2) #Visualisation of data\n",
    "library(reshape2) #reshape the dataset"
   ]
  },
  {
   "cell_type": "code",
   "execution_count": 2,
   "id": "0da30d55",
   "metadata": {},
   "outputs": [],
   "source": [
    "#Import the dataset for the task\n",
    "train <- read.csv(\"Task1E_train.csv\")\n",
    "test <- read.csv(\"Task1E_test.csv\")\n",
    "\n",
    "#Split the file\n",
    "train_data <- train[,-3]\n",
    "train_label <- train[,3]\n",
    "test_data <- test[,-3]\n",
    "test_label <- test[,3]\n",
    "\n",
    "#Label each can use either train/test_label since they got the same classes\n",
    "c1<-unique(train_label)[2] #Class1 or c0\n",
    "c2 <- unique(train_label)[1] #Class2 or c1"
   ]
  },
  {
   "cell_type": "markdown",
   "id": "fa8ab177",
   "metadata": {},
   "source": [
    "### Bayesian Classifier"
   ]
  },
  {
   "cell_type": "markdown",
   "id": "507e71c9",
   "metadata": {},
   "source": [
    "These are the steps to build a bayesian Classifier (derieved from jupyter notebook:activity 3.2):\n",
    "<ol>\n",
    "\t<li>Calculate the class priors $p(\\mathcal{C}_k)$ based on the relative number of training data in each class,</li>\n",
    "\t<li>Calculate the class means $\\mu_k$, class covariance matrices $\\mathbf{S}_k$ and shared covariance matrix $\\Sigma$ using the training data,</li>\n",
    "\t<li>Using the estimated PDF function, calculate $p(x_n|\\mathcal{C}_k)$ for each data point and each class,</li>\n",
    "\t<li>For each test sample, find the class label $\\mathcal{C}_k$ that maximizes the $p(\\mathcal{C}_k)p(x_n|\\mathcal{C}_k)$,</li>\n",
    "</ol>\n",
    "\n",
    "In the following we take these steps one by one as the following below:"
   ]
  },
  {
   "cell_type": "code",
   "execution_count": 3,
   "id": "d3fc4e12",
   "metadata": {},
   "outputs": [],
   "source": [
    "bayes_classifier <- function(train_set,class1,class2,train_lab,test_set,test_lab){\n",
    "    \n",
    "    #Calculate probability of the class in train dataset\n",
    "    pc1.hat <- sum(train_lab==class1)/nrow(train_set) #probability of getting c1\n",
    "    pc2.hat <- sum(train_lab==class2)/nrow(train_set) #probability of getting c2\n",
    "    \n",
    "    #Calculate class mean\n",
    "    muc1.hat <- colMeans(train_set[train_lab==class1,])\n",
    "    muc2.hat <- colMeans(train_set[train_lab==class2,])\n",
    "    \n",
    "    #Calculate class variance and shared covariance matrix\n",
    "    sigma_c1_hat <- var(train_set[train_lab==class1,]) #variance of class1\n",
    "    sigma_c2_hat <- var(train_set[train_lab==class2,]) #variance of class2\n",
    "    \n",
    "    sigma.hat <- pc1.hat * sigma_c1_hat + pc2.hat * sigma_c2_hat #Shared covariance matrix\n",
    "    \n",
    "    #Calculate the posterior probability based on the calculation above\n",
    "    posterior_c1 <- pc1.hat*dmvnorm(x=train_set, mean=muc1.hat, sigma=sigma.hat)\n",
    "    posterior_c2 <- pc2.hat*dmvnorm(x=train_set, mean=muc2.hat, sigma=sigma.hat)\n",
    "    \n",
    "    # calculate predictions:\n",
    "    train.predict <- ifelse(posterior_c1 > posterior_c2, class1, class2)\n",
    "    test.predict <- ifelse(pc1.hat*dmvnorm(x=test_set, mean=muc1.hat, sigma=sigma.hat) > \n",
    "                           pc2.hat*dmvnorm(x=test_set, mean=muc2.hat, sigma=sigma.hat), class1, class2)\n",
    "    \n",
    "    #Error calculation\n",
    "    train_error <- 1 - sum(train_lab==train.predict)/nrow(train_set)\n",
    "    test_error <- 1 - sum(test_lab==test.predict)/nrow(test_set)\n",
    "    \n",
    "    return(c(train_error,test_error))\n",
    "\n",
    "}"
   ]
  },
  {
   "cell_type": "markdown",
   "id": "ba5e5a33",
   "metadata": {},
   "source": [
    "### Logistic Regression"
   ]
  },
  {
   "cell_type": "markdown",
   "id": "eccc5189",
   "metadata": {},
   "source": [
    "Taking the following steps is neccesseary to build a logistic regression (derieved from jupyter notebook:activity 3.3):\n",
    "<ol>\n",
    "\t<li>Implement sigmoid function $\\sigma(\\pmb{w}.\\mathbf{x})$, and initialize weight vector $\\pmb{w}$, learning rate $\\eta$ and stopping criterion $\\epsilon$.</li>\n",
    "\t<li>Repeat the followings until the improvement becomes negligible (i.e., $|\\mathcal{L}(\\pmb{w}^{(\\tau+1)})-\\mathcal{L}(\\pmb{w}^{(\\tau)})| \\lt \\epsilon$):\n",
    "<ol>\n",
    "\t<li>Shuffle the training data</li>\n",
    "\t<li>For each datapoint in the training data do:\n",
    "<ol>\n",
    "\t<li>$\\pmb{w}^{(\\tau+1)} := \\pmb{w}^{(\\tau)} - \\eta (\\sigma(\\pmb{w}.\\mathbf{x}) - t_n) \\pmb{x}_n$</li>\n",
    "</ol>\n",
    "</li>\n",
    "</ol>\n",
    "</li>\n",
    "</ol>\n",
    "\n",
    "In the followings, we implement each of these steps."
   ]
  },
  {
   "cell_type": "markdown",
   "id": "8bff03ca",
   "metadata": {},
   "source": [
    "#### Auxilary Function & Sigmoid function"
   ]
  },
  {
   "cell_type": "markdown",
   "id": "c808ee6a",
   "metadata": {},
   "source": [
    "Similar to other regression model, the auxilary function for calculate the outcome and the error is created as the following:"
   ]
  },
  {
   "cell_type": "code",
   "execution_count": 4,
   "id": "fe62d722",
   "metadata": {},
   "outputs": [],
   "source": [
    "# Sigmoid function (=p(C1|X))\n",
    "sigmoid <- function(w, x){\n",
    "    return(1.0/(1.0+exp(-w%*%t(cbind(1,x)))))    \n",
    "}\n",
    "\n",
    "\n",
    "# auxiliary function that predicts class labels\n",
    "predict <- function(w, X, c0, c1){\n",
    "    sig <- sigmoid(w, X)\n",
    "    return(ifelse(sig>0.5, c1,c0))\n",
    "}\n",
    "    \n",
    "# auxiliary function that calculate a cost function\n",
    "cost <- function (w, X, T, c0){\n",
    "    sig <- sigmoid(w, X)\n",
    "    return(sum(ifelse(T==c0, 1-sig, sig)))\n",
    "}"
   ]
  },
  {
   "cell_type": "code",
   "execution_count": 5,
   "id": "fe2156d3",
   "metadata": {},
   "outputs": [],
   "source": [
    "logistic_reg <- function(train_set,train_lab,test_set,test_lab,c0,c1){\n",
    "    # Initializations\n",
    "    tau.max <- 1000 # maximum number of iterations\n",
    "    eta <- 0.01 # learning rate\n",
    "    epsilon <- 0.01 # a threshold on the cost (to terminate the process)\n",
    "    tau <- 1 # iteration counter\n",
    "    terminate <- FALSE\n",
    "    \n",
    "    ## Just a few name/type conversion to make the rest of the code easy to follow\n",
    "    train_mat <- as.matrix(train_set) # rename just for conviniance\n",
    "    train_l <- ifelse(train_lab==c0,0,1) # rename just for conviniance\n",
    "\n",
    "    \n",
    "    W <- matrix(,nrow=tau.max, ncol=(ncol(train_mat)+1)) # to be used to store the estimated coefficients\n",
    "    W[1,] <- runif(ncol(W)) # initial weight (any better idea?)\n",
    "    \n",
    "    # project data using the sigmoid function (just for convenient)\n",
    "    Y <- sigmoid(W[1,],train_mat)\n",
    "    \n",
    "    costs <- data.frame('tau'=1:tau.max)  # to be used for trace the cost in each iteration\n",
    "    costs[1, 'cost_train'] <- cost(W[1,],train_mat,train_l, 0)\n",
    "    \n",
    "    while(!terminate){\n",
    "        # check termination criteria:\n",
    "        terminate <- tau >= tau.max | cost(W[tau,],train_mat,train_l, 0)<=epsilon\n",
    "        \n",
    "        # shuffle data:\n",
    "        train_index <- sample(1:nrow(train_set), nrow(train_set), replace = FALSE)\n",
    "        train_mat <- train_mat[train_index,]\n",
    "        train_l <- train_l[train_index]\n",
    "        \n",
    "        # for each datapoint:\n",
    "        for (i in 1:nrow(train_set)){\n",
    "            # check termination criteria:\n",
    "            if (tau >= tau.max | cost(W[tau,],train_mat,train_l, 0) <=epsilon) {terminate<-TRUE;break}\n",
    "            \n",
    "            Y <- sigmoid(W[tau,],train_mat)\n",
    "            \n",
    "            # Update the weights\n",
    "            W[(tau+1),] <- W[tau,] - eta * (Y[i]-train_l[i]) * cbind(1, t(train_mat[i,]))\n",
    "            \n",
    "            # record the cost:\n",
    "            costs[(tau+1), 'cost_train'] <- cost(W[tau,],train_mat,train_lab, 0)\n",
    "            \n",
    "            # update the counter:\n",
    "            tau <- tau + 1\n",
    "            \n",
    "            # decrease learning rate:\n",
    "            eta = eta * 0.999\n",
    "        }\n",
    "    }\n",
    "    # Done!\n",
    "    costs <- costs[1:tau, ] # remove the NaN tail of the vector (in case of early stopping)\n",
    "    # the  final result is:\n",
    "    w <- W[tau,]\n",
    "    #Error calculation\n",
    "    train_pred <- predict(w,train_set,c0,c1)\n",
    "    test_pred <- predict(w,test_set,c0,c1)\n",
    "    train_error <- 1-sum(train_lab==train_pred)/nrow(train_set)\n",
    "    test_error <- 1 - sum(test_lab==test_pred)/nrow(test_set)\n",
    "    \n",
    "    return(c(train_error,test_error))\n",
    "}"
   ]
  },
  {
   "cell_type": "markdown",
   "id": "08263634",
   "metadata": {},
   "source": [
    "Using the\t first 5 data points from the training set, train a BC and\t a LR model, and compute their test errors. In a “for loop”, increase\tthe\tsize\tof training set\t(5 data points at a time), retrain the models and calculate their test\terrors until all training data points are used. In one figure, plot the\ttest\terrors\tfor\teach\tmodel\t(with\tdifferent\tcolors)\tversus\tthe\tsize\tof\tthe training\tset;\tinclude\tthe\tplot\tin\tyour\tJupyter\tNotebook\tfile\t\n",
    "for\tQuestion\t7."
   ]
  },
  {
   "cell_type": "code",
   "execution_count": 6,
   "id": "87cde688",
   "metadata": {},
   "outputs": [],
   "source": [
    "set.seed(80)\n",
    "j = 1 #counter for each row that contain vector of logistic or bayes error\n",
    "#Store the testing error as vector\n",
    "logi_test_error <- c()\n",
    "bayes_test_error <- c()\n",
    "\n",
    "\n",
    "for (i in seq(5,to=nrow(train_data),by=5)){#For each data point start from five to all of data point moving by 5\n",
    "    #Train logistic regression model\n",
    "    logi_error_cal <- logistic_reg(train_data[1:i,], train_label[1:i], test_data, test_label,c1,c2)\n",
    "    logi_test_error[j] <- logi_error_cal[2] #store error from testing set based on the result of model prediction\n",
    "    \n",
    "    #Train bayesian classifier model\n",
    "    bayes_error <- bayes_classifier(train_data[1:i,],c1,c2,train_label[1:i], test_data, test_label)\n",
    "    bayes_test_error[j] <- bayes_error[2] #store error from testing set based on the result of model prediction\n",
    "    \n",
    "    j=j+1 #Increment of counter until the loop is end\n",
    "}"
   ]
  },
  {
   "cell_type": "code",
   "execution_count": 7,
   "id": "e767ecb7",
   "metadata": {},
   "outputs": [
    {
     "data": {
      "image/png": "[encoded data removed]",
      "text/plain": [
       "plot without title"
      ]
     },
     "metadata": {},
     "output_type": "display_data"
    }
   ],
   "source": [
    "#Create dataframe for the plot\n",
    "test_error <- data.frame('training_size'=seq(5,to=nrow(train_data),by=5),'Logistic'=logi_test_error,'bayes'=bayes_test_error)\n",
    "test_error.melt <- melt(test_error,id='training_size') #Change form of the dataframe\n",
    "\n",
    "#Plot the test error per training size\n",
    "ggplot(test_error.melt,aes(x = training_size,y = value,color = variable)) +  geom_line()+\n",
    "scale_color_discrete(guide = guide_legend(title = 'Classifier type')) + theme_minimal()+ggtitle(\"Testing error per training size\")\n"
   ]
  },
  {
   "cell_type": "markdown",
   "id": "1863951c",
   "metadata": {},
   "source": [
    "a. What does happen for the LR and BC respectively when the\tnumber of training data\tpoints\tis\tincreased?\n",
    "\n",
    "Answer: The error in classification is decreased in a similar pattern for both LR and BC model."
   ]
  },
  {
   "cell_type": "markdown",
   "id": "99ef538a",
   "metadata": {},
   "source": [
    "b. Which classifier is best suited when the training set is small, and which\tis\tbest\tsuited\twhen\tthe\ttraining\tset\tis\tbig?\n",
    "\n",
    "Answer:Based on the plot, it seems that LR is suitable for small training set. However, in general, it is difficult to tell which model is better when the data size is very small because they will both perform poorly in prediction."
   ]
  },
  {
   "cell_type": "markdown",
   "id": "3e9ccd88",
   "metadata": {},
   "source": [
    "c. Justify your observations in previous questions (III.a &\t III.b)\t by providing\tsome\tspeculations\tand\tpossible\treasons.Hint: Think about model complexity and the fundamental concepts\tof\tmachine\tlearning\tcovered\tin\tModule\t1.\n",
    "\n",
    "Answer: The reason for the plot to illustrate the following pattern because increasing the sample size(training size) will decrease the error causing by an overfitting (model is too complex) due to an increase in parameter of classifier model (non-parametric) along with increasing of training size. Therefore, increasing training size wil reduce error rate (Chen,2022a). "
   ]
  },
  {
   "cell_type": "markdown",
   "id": "e0bc6820",
   "metadata": {},
   "source": [
    "### References\n",
    "\n",
    "All the code,algorithm and answer of the question is derieved from the following sources:"
   ]
  },
  {
   "cell_type": "markdown",
   "id": "5993b782",
   "metadata": {},
   "source": [
    "- Chen, B. (2022a). $\\textit{Week 1.:Elements of Machine Learning}$ \\[PowerPoint slides]. https://lms.monash.edu/mod/resource/view.php?id=9894948 \n",
    "- Chen, B. (2022b). $\\textit{Week 6.: Linear Models for Classification(Part B)}$ \\[PowerPoint slides]. https://lms.monash.edu/mod/resource/view.php?id=9895008\n",
    "- Jupyter Notebooks:FIT5201 Machine Learning, (nd.). $\\textit{Activity 3.2 Bayesian Classifier}$. \n",
    "https://lms.monash.edu/mod/folder/view.php?id=10133948\n",
    "- Jupyter Notebooks:FIT5201 Machine Learning, (nd.). $\\textit{Activity 3.3 Logistic Regression}$. \n",
    "https://lms.monash.edu/mod/folder/view.php?id=10133948"
   ]
  },
  {
   "cell_type": "code",
   "execution_count": null,
   "id": "f9de94e0",
   "metadata": {},
   "outputs": [],
   "source": []
  }
 ],
 "metadata": {
  "kernelspec": {
   "display_name": "R",
   "language": "R",
   "name": "ir"
  },
  "language_info": {
   "codemirror_mode": "r",
   "file_extension": ".r",
   "mimetype": "text/x-r-source",
   "name": "R",
   "pygments_lexer": "r",
   "version": "3.6.1"
  }
 },
 "nbformat": 4,
 "nbformat_minor": 5
}
