{
 "cells": [
  {
   "cell_type": "markdown",
   "id": "59f3960f",
   "metadata": {},
   "source": [
    "## Self-Taught Learning"
   ]
  },
  {
   "cell_type": "code",
   "execution_count": 1,
   "id": "495aa3f6",
   "metadata": {},
   "outputs": [
    {
     "name": "stderr",
     "output_type": "stream",
     "text": [
      "Registered S3 methods overwritten by 'ggplot2':\n",
      "  method         from \n",
      "  [.quosures     rlang\n",
      "  c.quosures     rlang\n",
      "  print.quosures rlang\n"
     ]
    }
   ],
   "source": [
    "#install packages \n",
    "#install.packages('gridExtra')\n",
    "#install.packages('h2o')\n",
    "\n",
    "options(warn=-1)\n",
    "library(ggplot2) #For plotting\n",
    "library(repr) #For reshape the file\n",
    "library(reshape2) #For reshape the file"
   ]
  },
  {
   "cell_type": "markdown",
   "id": "b8103019",
   "metadata": {},
   "source": [
    "The code and the implementation of the model is derieved from acitvity 5.2 and codebase2C as the following:"
   ]
  },
  {
   "cell_type": "markdown",
   "id": "9cd1c8bc",
   "metadata": {},
   "source": [
    "I. Load Task2C_labeled.csv, Task2C_unlabeled.csv and Task2C_test.csv data sets and required libraries (e.g., H2O). Note\n",
    "that we are going to use Task2C_labeled.csv and Task2C_unlabeled.csv for training the autoencoder. We are going to\n",
    "use Task2C_labeled.csv for training the classifier. Finally, we evaluate the trained classifier on the test Task2C_test.csv."
   ]
  },
  {
   "cell_type": "code",
   "execution_count": 2,
   "id": "7414799c",
   "metadata": {},
   "outputs": [
    {
     "name": "stderr",
     "output_type": "stream",
     "text": [
      "\n",
      "----------------------------------------------------------------------\n",
      "\n",
      "Your next step is to start H2O:\n",
      "    > h2o.init()\n",
      "\n",
      "For H2O package documentation, ask for help:\n",
      "    > ??h2o\n",
      "\n",
      "After starting H2O, you can use the Web UI at http://localhost:54321\n",
      "For more information visit https://docs.h2o.ai\n",
      "\n",
      "----------------------------------------------------------------------\n",
      "\n",
      "\n",
      "Attaching package: 'h2o'\n",
      "\n",
      "The following objects are masked from 'package:stats':\n",
      "\n",
      "    cor, sd, var\n",
      "\n",
      "The following objects are masked from 'package:base':\n",
      "\n",
      "    %*%, %in%, &&, ||, apply, as.factor, as.numeric, colnames,\n",
      "    colnames<-, ifelse, is.character, is.factor, is.numeric, log,\n",
      "    log10, log1p, log2, round, signif, trunc\n",
      "\n"
     ]
    },
    {
     "name": "stdout",
     "output_type": "stream",
     "text": [
      "\n",
      "H2O is not running yet, starting it now...\n",
      "\n",
      "Note:  In case of errors look at the following log files:\n",
      "    C:\\Users\\ASUS\\AppData\\Local\\Temp\\RtmpInyBGw\\file41d0367557ee/h2o_ASUS_started_from_r.out\n",
      "    C:\\Users\\ASUS\\AppData\\Local\\Temp\\RtmpInyBGw\\file41d0ae19aa/h2o_ASUS_started_from_r.err\n",
      "\n",
      "\n",
      "Starting H2O JVM and connecting:  Connection successful!\n",
      "\n",
      "R is connected to the H2O cluster: \n",
      "    H2O cluster uptime:         2 seconds 529 milliseconds \n",
      "    H2O cluster timezone:       Asia/Bangkok \n",
      "    H2O data parsing timezone:  UTC \n",
      "    H2O cluster version:        3.36.0.4 \n",
      "    H2O cluster version age:    543 years, 1 month and 12 days !!! \n",
      "    H2O cluster name:           H2O_started_from_R_ASUS_hdx932 \n",
      "    H2O cluster total nodes:    1 \n",
      "    H2O cluster total memory:   6.00 GB \n",
      "    H2O cluster total cores:    8 \n",
      "    H2O cluster allowed cores:  8 \n",
      "    H2O cluster healthy:        TRUE \n",
      "    H2O Connection ip:          localhost \n",
      "    H2O Connection port:        54321 \n",
      "    H2O Connection proxy:       NA \n",
      "    H2O Internal Security:      FALSE \n",
      "    R Version:                  R version 3.6.1 (2019-07-05) \n",
      "\n"
     ]
    }
   ],
   "source": [
    "#initialise H2o library for deep learning neural network\n",
    "library(h2o)\n",
    "h2o.init(nthreads = -1, port = 54321, max_mem_size = '6G', startH2O = TRUE)"
   ]
  },
  {
   "cell_type": "code",
   "execution_count": 3,
   "id": "33724c57",
   "metadata": {},
   "outputs": [
    {
     "name": "stdout",
     "output_type": "stream",
     "text": [
      "  |======================================================================| 100%\n",
      "  |======================================================================| 100%\n",
      "  |======================================================================| 100%\n"
     ]
    }
   ],
   "source": [
    "# Students: Use the \"absolute\" path to the datasets on your machine (important)\n",
    "labeled.frame <- h2o.importFile(path ='./Task2C_labeled.csv' ,sep=',') \n",
    "unlabeled.frame <- h2o.importFile(path = './Task2C_unlabeled.csv' ,sep=',') \n",
    "test.frame <- h2o.importFile(path = './Task2C_test.csv' ,sep=',') "
   ]
  },
  {
   "cell_type": "markdown",
   "id": "8d4a375d",
   "metadata": {},
   "source": [
    "II. Train an autoencoder (similar to Activity 5.2) with only one hidden layer and change the number of its neurons to: 20, 40, 60, 80, …, 440 (i.e. from 20 to 440 with a step size of 20)."
   ]
  },
  {
   "cell_type": "code",
   "execution_count": 4,
   "id": "05a83014",
   "metadata": {},
   "outputs": [],
   "source": [
    "#Separate label and unlabel for making a train and test frame\n",
    "labeled.frame[,1] <- as.factor(labeled.frame$label)\n",
    "train.frame <- h2o.rbind(labeled.frame[,-1], unlabeled.frame[,-1])\n",
    "test.frame[,1] <- as.factor(test.frame$label)\n",
    "\n",
    "# remove NA's\n",
    "unlabeled.frame <- h2o.na_omit(unlabeled.frame)"
   ]
  },
  {
   "cell_type": "code",
   "execution_count": 5,
   "id": "fede88d3",
   "metadata": {},
   "outputs": [],
   "source": [
    "#Calculation of an error rate of the model\n",
    "error.rate <- function(Y1, T1){\n",
    "  if (nrow(Y1)!=nrow(T1)){\n",
    "    stop('error.rate: size of true lables and predicted labels mismatch')\n",
    "  }\n",
    "  return (sum(T1!=Y1)/nrow(T1))\n",
    "}"
   ]
  },
  {
   "cell_type": "code",
   "execution_count": 6,
   "id": "0b00cd7d",
   "metadata": {},
   "outputs": [
    {
     "name": "stdout",
     "output_type": "stream",
     "text": [
      "  |======================================================================| 100%\n",
      "  |======================================================================| 100%\n",
      "  |======================================================================| 100%\n",
      "  |======================================================================| 100%\n",
      "  |======================================================================| 100%\n",
      "  |======================================================================| 100%\n",
      "  |======================================================================| 100%\n",
      "  |======================================================================| 100%\n",
      "  |======================================================================| 100%\n",
      "  |======================================================================| 100%\n",
      "  |======================================================================| 100%\n",
      "  |======================================================================| 100%\n",
      "  |======================================================================| 100%\n",
      "  |======================================================================| 100%\n",
      "  |======================================================================| 100%\n",
      "  |======================================================================| 100%\n",
      "  |======================================================================| 100%\n",
      "  |======================================================================| 100%\n",
      "  |======================================================================| 100%\n",
      "  |======================================================================| 100%\n",
      "  |======================================================================| 100%\n",
      "  |======================================================================| 100%\n",
      "  |======================================================================| 100%\n",
      "  |======================================================================| 100%\n",
      "  |======================================================================| 100%\n",
      "  |======================================================================| 100%\n",
      "  |======================================================================| 100%\n",
      "  |======================================================================| 100%\n",
      "  |======================================================================| 100%\n",
      "  |======================================================================| 100%\n",
      "  |======================================================================| 100%\n",
      "  |======================================================================| 100%\n",
      "  |======================================================================| 100%\n",
      "  |======================================================================| 100%\n",
      "  |======================================================================| 100%\n",
      "  |======================================================================| 100%\n",
      "  |======================================================================| 100%\n",
      "  |======================================================================| 100%\n",
      "  |======================================================================| 100%\n",
      "  |======================================================================| 100%\n",
      "  |======================================================================| 100%\n",
      "  |======================================================================| 100%\n",
      "  |======================================================================| 100%\n",
      "  |======================================================================| 100%\n"
     ]
    }
   ],
   "source": [
    "#Create empty dataframe for storing the error rate\n",
    "reconstruction.train.error <- matrix(NA, nrow=22, ncol=1)\n",
    "reconstruction.test.error <- matrix(NA, nrow=22, ncol=1)\n",
    "layers <- list() #Store the autoencoder for the augmentation in the later process based on the number of neuron\n",
    "i <- 1 #Incrementation starting point\n",
    "\n",
    "# Build a neural network withautoencoder on train.frame similar to activity 5.2\n",
    "for (k in seq(20, 440, 20)){\n",
    "    NN.model <- h2o.deeplearning(    \n",
    "        x = 1:ncol(train.frame), # select all pixels + extra features\n",
    "        training_frame = train.frame, # specify the frame (imported file)\n",
    "        hidden = k, # number of layers and their units\n",
    "        activation = 'Tanh', # activation function \n",
    "        autoencoder = TRUE, # is it an autoencoder? Yes!\n",
    "        l2 = 0.1)\n",
    "    \n",
    "    #Store the mean\n",
    "    reconstruction.train.error[i,1] <- mean(h2o.anomaly(NN.model, train.frame)) \n",
    "    reconstruction.test.error[i,1] <- mean(h2o.anomaly(NN.model, test.frame))\n",
    "    layers[[i]] <- h2o.deepfeatures(NN.model, labeled.frame, layer = 1) #Store the model by the number of layers\n",
    "   \n",
    "    i <- i+1\n",
    "}    "
   ]
  },
  {
   "cell_type": "markdown",
   "id": "283d2234",
   "metadata": {},
   "source": [
    "III. For each model in Step II, calculate and record the reconstruction error which is simply the average (over all data points while the model is fixed) of Euclidian distances between the input and output of the autoencoder (you can simply use “h2o.anomaly()” function).Plot these values where the x-axis is the number of units in the middle layer and the y-axis is the reconstruction error. Then, save and attach the plot to your PDF report. Explain your findings based on the plot in\n",
    "your PDF report."
   ]
  },
  {
   "cell_type": "code",
   "execution_count": 7,
   "id": "926e6e30",
   "metadata": {},
   "outputs": [],
   "source": [
    "# transform reconstruction error matrix to data frame \n",
    "reconstruction_train <- as.data.frame(reconstruction.train.error)\n",
    "reconstruction_test <- as.data.frame(reconstruction.test.error)\n",
    "\n",
    "reconstruction_train['type'] <- 'train'\n",
    "reconstruction_test['type'] <- 'test'\n",
    "\n",
    "reconstruction_train['K'] <- seq(20,440,20)\n",
    "reconstruction_test['K'] <- seq(20,440,20)\n",
    "\n",
    "reconstruction_error <- rbind(reconstruction_train,reconstruction_test)\n",
    "names(reconstruction_error) <- c('error','type','K')"
   ]
  },
  {
   "cell_type": "code",
   "execution_count": 8,
   "id": "b100bada",
   "metadata": {},
   "outputs": [
    {
     "data": {
      "text/html": [
       "<table>\n",
       "<thead><tr><th scope=col>error</th><th scope=col>type</th><th scope=col>K</th></tr></thead>\n",
       "<tbody>\n",
       "\t<tr><td>0.013626818</td><td>train      </td><td> 20        </td></tr>\n",
       "\t<tr><td>0.009757836</td><td>train      </td><td> 40        </td></tr>\n",
       "\t<tr><td>0.007571820</td><td>train      </td><td> 60        </td></tr>\n",
       "\t<tr><td>0.006410961</td><td>train      </td><td> 80        </td></tr>\n",
       "\t<tr><td>0.005562095</td><td>train      </td><td>100        </td></tr>\n",
       "\t<tr><td>0.004989722</td><td>train      </td><td>120        </td></tr>\n",
       "\t<tr><td>0.004683030</td><td>train      </td><td>140        </td></tr>\n",
       "\t<tr><td>0.004256248</td><td>train      </td><td>160        </td></tr>\n",
       "\t<tr><td>0.003939167</td><td>train      </td><td>180        </td></tr>\n",
       "\t<tr><td>0.003770601</td><td>train      </td><td>200        </td></tr>\n",
       "\t<tr><td>0.003681935</td><td>train      </td><td>220        </td></tr>\n",
       "\t<tr><td>0.003491838</td><td>train      </td><td>240        </td></tr>\n",
       "\t<tr><td>0.003424794</td><td>train      </td><td>260        </td></tr>\n",
       "\t<tr><td>0.003448925</td><td>train      </td><td>280        </td></tr>\n",
       "\t<tr><td>0.003345014</td><td>train      </td><td>300        </td></tr>\n",
       "\t<tr><td>0.003326479</td><td>train      </td><td>320        </td></tr>\n",
       "\t<tr><td>0.003157810</td><td>train      </td><td>340        </td></tr>\n",
       "\t<tr><td>0.003278636</td><td>train      </td><td>360        </td></tr>\n",
       "\t<tr><td>0.003339417</td><td>train      </td><td>380        </td></tr>\n",
       "\t<tr><td>0.003092285</td><td>train      </td><td>400        </td></tr>\n",
       "\t<tr><td>0.003104801</td><td>train      </td><td>420        </td></tr>\n",
       "\t<tr><td>0.003116493</td><td>train      </td><td>440        </td></tr>\n",
       "\t<tr><td>0.102945884</td><td>test       </td><td> 20        </td></tr>\n",
       "\t<tr><td>0.094332099</td><td>test       </td><td> 40        </td></tr>\n",
       "\t<tr><td>0.089621798</td><td>test       </td><td> 60        </td></tr>\n",
       "\t<tr><td>0.086765301</td><td>test       </td><td> 80        </td></tr>\n",
       "\t<tr><td>0.084235409</td><td>test       </td><td>100        </td></tr>\n",
       "\t<tr><td>0.082399809</td><td>test       </td><td>120        </td></tr>\n",
       "\t<tr><td>0.081586708</td><td>test       </td><td>140        </td></tr>\n",
       "\t<tr><td>0.079766949</td><td>test       </td><td>160        </td></tr>\n",
       "\t<tr><td>0.078987555</td><td>test       </td><td>180        </td></tr>\n",
       "\t<tr><td>0.078453566</td><td>test       </td><td>200        </td></tr>\n",
       "\t<tr><td>0.077819646</td><td>test       </td><td>220        </td></tr>\n",
       "\t<tr><td>0.077199718</td><td>test       </td><td>240        </td></tr>\n",
       "\t<tr><td>0.076773628</td><td>test       </td><td>260        </td></tr>\n",
       "\t<tr><td>0.076651371</td><td>test       </td><td>280        </td></tr>\n",
       "\t<tr><td>0.076162682</td><td>test       </td><td>300        </td></tr>\n",
       "\t<tr><td>0.076124202</td><td>test       </td><td>320        </td></tr>\n",
       "\t<tr><td>0.075785959</td><td>test       </td><td>340        </td></tr>\n",
       "\t<tr><td>0.075668614</td><td>test       </td><td>360        </td></tr>\n",
       "\t<tr><td>0.075817442</td><td>test       </td><td>380        </td></tr>\n",
       "\t<tr><td>0.075079962</td><td>test       </td><td>400        </td></tr>\n",
       "\t<tr><td>0.075127063</td><td>test       </td><td>420        </td></tr>\n",
       "\t<tr><td>0.075046047</td><td>test       </td><td>440        </td></tr>\n",
       "</tbody>\n",
       "</table>\n"
      ],
      "text/latex": [
       "\\begin{tabular}{r|lll}\n",
       " error & type & K\\\\\n",
       "\\hline\n",
       "\t 0.013626818 & train       &  20        \\\\\n",
       "\t 0.009757836 & train       &  40        \\\\\n",
       "\t 0.007571820 & train       &  60        \\\\\n",
       "\t 0.006410961 & train       &  80        \\\\\n",
       "\t 0.005562095 & train       & 100        \\\\\n",
       "\t 0.004989722 & train       & 120        \\\\\n",
       "\t 0.004683030 & train       & 140        \\\\\n",
       "\t 0.004256248 & train       & 160        \\\\\n",
       "\t 0.003939167 & train       & 180        \\\\\n",
       "\t 0.003770601 & train       & 200        \\\\\n",
       "\t 0.003681935 & train       & 220        \\\\\n",
       "\t 0.003491838 & train       & 240        \\\\\n",
       "\t 0.003424794 & train       & 260        \\\\\n",
       "\t 0.003448925 & train       & 280        \\\\\n",
       "\t 0.003345014 & train       & 300        \\\\\n",
       "\t 0.003326479 & train       & 320        \\\\\n",
       "\t 0.003157810 & train       & 340        \\\\\n",
       "\t 0.003278636 & train       & 360        \\\\\n",
       "\t 0.003339417 & train       & 380        \\\\\n",
       "\t 0.003092285 & train       & 400        \\\\\n",
       "\t 0.003104801 & train       & 420        \\\\\n",
       "\t 0.003116493 & train       & 440        \\\\\n",
       "\t 0.102945884 & test        &  20        \\\\\n",
       "\t 0.094332099 & test        &  40        \\\\\n",
       "\t 0.089621798 & test        &  60        \\\\\n",
       "\t 0.086765301 & test        &  80        \\\\\n",
       "\t 0.084235409 & test        & 100        \\\\\n",
       "\t 0.082399809 & test        & 120        \\\\\n",
       "\t 0.081586708 & test        & 140        \\\\\n",
       "\t 0.079766949 & test        & 160        \\\\\n",
       "\t 0.078987555 & test        & 180        \\\\\n",
       "\t 0.078453566 & test        & 200        \\\\\n",
       "\t 0.077819646 & test        & 220        \\\\\n",
       "\t 0.077199718 & test        & 240        \\\\\n",
       "\t 0.076773628 & test        & 260        \\\\\n",
       "\t 0.076651371 & test        & 280        \\\\\n",
       "\t 0.076162682 & test        & 300        \\\\\n",
       "\t 0.076124202 & test        & 320        \\\\\n",
       "\t 0.075785959 & test        & 340        \\\\\n",
       "\t 0.075668614 & test        & 360        \\\\\n",
       "\t 0.075817442 & test        & 380        \\\\\n",
       "\t 0.075079962 & test        & 400        \\\\\n",
       "\t 0.075127063 & test        & 420        \\\\\n",
       "\t 0.075046047 & test        & 440        \\\\\n",
       "\\end{tabular}\n"
      ],
      "text/markdown": [
       "\n",
       "| error | type | K |\n",
       "|---|---|---|\n",
       "| 0.013626818 | train       |  20         |\n",
       "| 0.009757836 | train       |  40         |\n",
       "| 0.007571820 | train       |  60         |\n",
       "| 0.006410961 | train       |  80         |\n",
       "| 0.005562095 | train       | 100         |\n",
       "| 0.004989722 | train       | 120         |\n",
       "| 0.004683030 | train       | 140         |\n",
       "| 0.004256248 | train       | 160         |\n",
       "| 0.003939167 | train       | 180         |\n",
       "| 0.003770601 | train       | 200         |\n",
       "| 0.003681935 | train       | 220         |\n",
       "| 0.003491838 | train       | 240         |\n",
       "| 0.003424794 | train       | 260         |\n",
       "| 0.003448925 | train       | 280         |\n",
       "| 0.003345014 | train       | 300         |\n",
       "| 0.003326479 | train       | 320         |\n",
       "| 0.003157810 | train       | 340         |\n",
       "| 0.003278636 | train       | 360         |\n",
       "| 0.003339417 | train       | 380         |\n",
       "| 0.003092285 | train       | 400         |\n",
       "| 0.003104801 | train       | 420         |\n",
       "| 0.003116493 | train       | 440         |\n",
       "| 0.102945884 | test        |  20         |\n",
       "| 0.094332099 | test        |  40         |\n",
       "| 0.089621798 | test        |  60         |\n",
       "| 0.086765301 | test        |  80         |\n",
       "| 0.084235409 | test        | 100         |\n",
       "| 0.082399809 | test        | 120         |\n",
       "| 0.081586708 | test        | 140         |\n",
       "| 0.079766949 | test        | 160         |\n",
       "| 0.078987555 | test        | 180         |\n",
       "| 0.078453566 | test        | 200         |\n",
       "| 0.077819646 | test        | 220         |\n",
       "| 0.077199718 | test        | 240         |\n",
       "| 0.076773628 | test        | 260         |\n",
       "| 0.076651371 | test        | 280         |\n",
       "| 0.076162682 | test        | 300         |\n",
       "| 0.076124202 | test        | 320         |\n",
       "| 0.075785959 | test        | 340         |\n",
       "| 0.075668614 | test        | 360         |\n",
       "| 0.075817442 | test        | 380         |\n",
       "| 0.075079962 | test        | 400         |\n",
       "| 0.075127063 | test        | 420         |\n",
       "| 0.075046047 | test        | 440         |\n",
       "\n"
      ],
      "text/plain": [
       "   error       type  K  \n",
       "1  0.013626818 train  20\n",
       "2  0.009757836 train  40\n",
       "3  0.007571820 train  60\n",
       "4  0.006410961 train  80\n",
       "5  0.005562095 train 100\n",
       "6  0.004989722 train 120\n",
       "7  0.004683030 train 140\n",
       "8  0.004256248 train 160\n",
       "9  0.003939167 train 180\n",
       "10 0.003770601 train 200\n",
       "11 0.003681935 train 220\n",
       "12 0.003491838 train 240\n",
       "13 0.003424794 train 260\n",
       "14 0.003448925 train 280\n",
       "15 0.003345014 train 300\n",
       "16 0.003326479 train 320\n",
       "17 0.003157810 train 340\n",
       "18 0.003278636 train 360\n",
       "19 0.003339417 train 380\n",
       "20 0.003092285 train 400\n",
       "21 0.003104801 train 420\n",
       "22 0.003116493 train 440\n",
       "23 0.102945884 test   20\n",
       "24 0.094332099 test   40\n",
       "25 0.089621798 test   60\n",
       "26 0.086765301 test   80\n",
       "27 0.084235409 test  100\n",
       "28 0.082399809 test  120\n",
       "29 0.081586708 test  140\n",
       "30 0.079766949 test  160\n",
       "31 0.078987555 test  180\n",
       "32 0.078453566 test  200\n",
       "33 0.077819646 test  220\n",
       "34 0.077199718 test  240\n",
       "35 0.076773628 test  260\n",
       "36 0.076651371 test  280\n",
       "37 0.076162682 test  300\n",
       "38 0.076124202 test  320\n",
       "39 0.075785959 test  340\n",
       "40 0.075668614 test  360\n",
       "41 0.075817442 test  380\n",
       "42 0.075079962 test  400\n",
       "43 0.075127063 test  420\n",
       "44 0.075046047 test  440"
      ]
     },
     "metadata": {},
     "output_type": "display_data"
    }
   ],
   "source": [
    "reconstruction_error"
   ]
  },
  {
   "cell_type": "code",
   "execution_count": 9,
   "id": "e28d6c18",
   "metadata": {},
   "outputs": [
    {
     "data": {
      "image/png": "[encoded data removed]",
      "text/plain": [
       "plot without title"
      ]
     },
     "metadata": {},
     "output_type": "display_data"
    }
   ],
   "source": [
    "options(repr.plot.width = 10, repr.plot.height = 6) # Define plot size\n",
    "\n",
    "#Plot of the reconstruction error and number of units in the middle layer\n",
    "ggplot(data=reconstruction_error, aes(x=K, y=error, color=type)) +\n",
    "    geom_line() + ggtitle('Reconstruction Error vs No.hidden layers') +\n",
    "    scale_color_discrete(guide = guide_legend(title = 'Type of Reconstruction Errors')) +theme_minimal()"
   ]
  },
  {
   "cell_type": "markdown",
   "id": "d3a677cc",
   "metadata": {},
   "source": [
    "IV. Build the 3-layer NN from Activity 5.1 or “h2o.deeplearning” function (make sure you set “ autoencoder = FALSE”) to build a classification model using all the original attributes from the training set and change the number of its neurons to: 20, 40, 60, 80, .., 440 like Step II. For each model, calculate and record the test error."
   ]
  },
  {
   "cell_type": "code",
   "execution_count": 10,
   "id": "ef04799d",
   "metadata": {},
   "outputs": [
    {
     "name": "stdout",
     "output_type": "stream",
     "text": [
      "  |======================================================================| 100%\n",
      "  |======================================================================| 100%\n",
      "  |======================================================================| 100%\n",
      "  |======================================================================| 100%\n",
      "  |======================================================================| 100%\n",
      "  |======================================================================| 100%\n",
      "  |======================================================================| 100%\n",
      "  |======================================================================| 100%\n",
      "  |======================================================================| 100%\n",
      "  |======================================================================| 100%\n",
      "  |======================================================================| 100%\n",
      "  |======================================================================| 100%\n",
      "  |======================================================================| 100%\n",
      "  |======================================================================| 100%\n",
      "  |======================================================================| 100%\n",
      "  |======================================================================| 100%\n",
      "  |======================================================================| 100%\n",
      "  |======================================================================| 100%\n",
      "  |======================================================================| 100%\n",
      "  |======================================================================| 100%\n",
      "  |======================================================================| 100%\n",
      "  |======================================================================| 100%\n",
      "  |======================================================================| 100%\n",
      "  |======================================================================| 100%\n",
      "  |======================================================================| 100%\n",
      "  |======================================================================| 100%\n",
      "  |======================================================================| 100%\n",
      "  |======================================================================| 100%\n",
      "  |======================================================================| 100%\n",
      "  |======================================================================| 100%\n",
      "  |======================================================================| 100%\n",
      "  |======================================================================| 100%\n",
      "  |======================================================================| 100%\n",
      "  |======================================================================| 100%\n",
      "  |======================================================================| 100%\n",
      "  |======================================================================| 100%\n",
      "  |======================================================================| 100%\n",
      "  |======================================================================| 100%\n",
      "  |======================================================================| 100%\n",
      "  |======================================================================| 100%\n",
      "  |======================================================================| 100%\n",
      "  |======================================================================| 100%\n",
      "  |======================================================================| 100%\n",
      "  |======================================================================| 100%\n"
     ]
    }
   ],
   "source": [
    "#Create neural network from training dataframe\n",
    "classification.test.error <- matrix(NA, nrow=22, ncol=1)\n",
    "i <- 1\n",
    "\n",
    "for (k in seq(20,440,20)){\n",
    "    # build a neural network classifier based on the labeled training data\n",
    "    NN.model <- h2o.deeplearning(    \n",
    "        x = 2:ncol(labeled.frame), # select all pixels + extra features\n",
    "        y = 1,\n",
    "        training_frame = labeled.frame, # specify the frame (imported file)    \n",
    "        hidden = c(k), # number of layers and their units  \n",
    "        activation = 'Tanh', # activation function \n",
    "        autoencoder = FALSE, # is it an autoencoder? Yes!\n",
    "        l2 = 0.1)\n",
    "    \n",
    "    test.predict <- h2o.predict(NN.model, test.frame)$predict\n",
    "    classification.test.error[i,]<-error.rate(test.frame$label, test.predict)\n",
    "    i <- i+1\n",
    "}\n"
   ]
  },
  {
   "cell_type": "markdown",
   "id": "37ad6fec",
   "metadata": {},
   "source": [
    "V. Build augmented self-taught networks using the models learnt in Step II. For each model:\n",
    "\n",
    "A. Add the output of the middle layer of an autoencoder as extra features to the original feature set.\n",
    "\n",
    "B. Train a 3-layer NN using all features (original + extra) and varying the number of hidden neurons (like Step IV) as well. Then calculate and record the test error."
   ]
  },
  {
   "cell_type": "code",
   "execution_count": 11,
   "id": "bc228cd3",
   "metadata": {},
   "outputs": [
    {
     "name": "stdout",
     "output_type": "stream",
     "text": [
      "  |======================================================================| 100%\n",
      "  |======================================================================| 100%\n",
      "  |======================================================================| 100%\n",
      "  |======================================================================| 100%\n",
      "  |======================================================================| 100%\n",
      "  |======================================================================| 100%\n",
      "  |======================================================================| 100%\n",
      "  |======================================================================| 100%\n",
      "  |======================================================================| 100%\n",
      "  |======================================================================| 100%\n",
      "  |======================================================================| 100%\n",
      "  |======================================================================| 100%\n",
      "  |======================================================================| 100%\n",
      "  |======================================================================| 100%\n",
      "  |======================================================================| 100%\n",
      "  |======================================================================| 100%\n",
      "  |======================================================================| 100%\n",
      "  |======================================================================| 100%\n",
      "  |======================================================================| 100%\n",
      "  |======================================================================| 100%\n",
      "  |======================================================================| 100%\n",
      "  |======================================================================| 100%\n",
      "  |======================================================================| 100%\n",
      "  |======================================================================| 100%\n",
      "  |======================================================================| 100%\n",
      "  |======================================================================| 100%\n",
      "  |======================================================================| 100%\n",
      "  |======================================================================| 100%\n",
      "  |======================================================================| 100%\n",
      "  |======================================================================| 100%\n",
      "  |======================================================================| 100%\n",
      "  |======================================================================| 100%\n",
      "  |======================================================================| 100%\n",
      "  |======================================================================| 100%\n",
      "  |======================================================================| 100%\n",
      "  |======================================================================| 100%\n",
      "  |======================================================================| 100%\n",
      "  |======================================================================| 100%\n",
      "  |======================================================================| 100%\n",
      "  |======================================================================| 100%\n",
      "  |======================================================================| 100%\n",
      "  |======================================================================| 100%\n",
      "  |======================================================================| 100%\n",
      "  |======================================================================| 100%\n"
     ]
    }
   ],
   "source": [
    "#Create neural network model with augmentation of autoencoder\n",
    "classification.test.error.aug <- matrix(NA, nrow=22, ncol=1)\n",
    "i <- 1\n",
    "\n",
    "for (k in seq(20,440,20)){\n",
    "    label_aug <- h2o.cbind(labeled.frame, layers[[i]])\n",
    "    NN.model <- h2o.deeplearning(\n",
    "        x = 2:ncol(label_aug), # select all pixels + extra features\n",
    "        y = 1,\n",
    "        training_frame = label_aug, # specify the frame (imported file)\n",
    "        hidden = c(k), # number of layers and their units store model based on number of neuron (sequence of 20 to 440)\n",
    "        activation = 'Tanh', # activation function \n",
    "        autoencoder = FALSE, # is it an autoencoder? No!\n",
    "        l2 = 0.1)\n",
    "   \n",
    "    test_predict_aug <- h2o.predict(NN.model, test.frame)$predict\n",
    "    classification.test.error.aug[i, ] <- error.rate(test.frame$label, test_predict_aug)\n",
    "    i<-i+1\n",
    "}"
   ]
  },
  {
   "cell_type": "markdown",
   "id": "4ff45a4d",
   "metadata": {},
   "source": [
    "VI. Plot the error rates for the 3-layer neural networks from Step IV and the augmented self-taught networks from Step V, while the x-axis is the number of hidden neurons and y-axis is the classification error. Save and attach the plot to your PDF report. In your pdf, explain how the performance of the 3-layer neural networks and the augmented self-taught networks is different and why they are different or why they are not different, based on the plot."
   ]
  },
  {
   "cell_type": "code",
   "execution_count": 12,
   "id": "46f6a2bf",
   "metadata": {},
   "outputs": [],
   "source": [
    "#Create dataframe for plotting the error\n",
    "class_test<-as.data.frame(classification.test.error)\n",
    "class_test_aug <- as.data.frame(classification.test.error.aug)\n",
    "\n",
    "class_test['augment'] <- 'Not Augment'\n",
    "class_test_aug['augment'] <- 'Augment'\n",
    "\n",
    "class_test['k'] <- seq(20,440,20)\n",
    "class_test_aug['k'] <- seq(20,440,20)\n",
    "\n",
    "class_error_df <- rbind(class_test,class_test_aug)\n",
    "names(class_error_df) <- c('error','augment','k')"
   ]
  },
  {
   "cell_type": "code",
   "execution_count": 13,
   "id": "8ed4c3df",
   "metadata": {},
   "outputs": [
    {
     "data": {
      "image/png": "[encoded data removed]",
      "text/plain": [
       "plot without title"
      ]
     },
     "metadata": {},
     "output_type": "display_data"
    }
   ],
   "source": [
    "options(repr.plot.width = 10, repr.plot.height = 6) # Define plot size\n",
    "\n",
    "#Plot of the reconstruction error and number of units in the middle layer\n",
    "ggplot(data=class_error_df, aes(x=k, y=error, color=augment)) +\n",
    "    geom_line() + ggtitle('Classification Error with/without augmentation') +\n",
    "    scale_color_discrete(guide = guide_legend(title = 'Augment')) +theme_minimal()"
   ]
  },
  {
   "cell_type": "markdown",
   "id": "ce93288c",
   "metadata": {},
   "source": [
    "## Reference"
   ]
  },
  {
   "cell_type": "markdown",
   "id": "7bcfb774",
   "metadata": {},
   "source": [
    "- Haffari, G. & Kazimipour, B. (2016, July). $\\textit{codeBase2C.R}$. https://lms.monash.edu/pluginfile.php/14028238/mod_assign/intro/Dataset%20and%20Sample%20code_2022.zip\n",
    "- Jupyter Notebooks:FIT5201 Machine Learning, (nd.). $\\textit{Activity 5.1 Autoencoder}$. \n",
    "https://lms.monash.edu/mod/resource/view.php?id=10251992\n",
    "- RDocumentation. (nd.)  $\\textit{na.omit.H2OFrame: Remove Rows With NAs}$. https://www.rdocumentation.org/packages/h2o/versions/3.8.3.3/topics/na.omit.H2OFrame"
   ]
  },
  {
   "cell_type": "code",
   "execution_count": null,
   "id": "302cfbe8",
   "metadata": {},
   "outputs": [],
   "source": []
  }
 ],
 "metadata": {
  "kernelspec": {
   "display_name": "R",
   "language": "R",
   "name": "ir"
  },
  "language_info": {
   "codemirror_mode": "r",
   "file_extension": ".r",
   "mimetype": "text/x-r-source",
   "name": "R",
   "pygments_lexer": "r",
   "version": "3.6.1"
  }
 },
 "nbformat": 4,
 "nbformat_minor": 5
}
